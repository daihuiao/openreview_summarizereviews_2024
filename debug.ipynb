{
 "cells": [
  {
   "cell_type": "code",
   "execution_count": 1,
   "id": "71166260-b8ee-44e5-bf04-2d0e2da059b4",
   "metadata": {},
   "outputs": [
    {
     "name": "stderr",
     "output_type": "stream",
     "text": [
      "Gathering Responses: 100%|████████████████████████| 7/7 [00:04<00:00,  1.46it/s]\n"
     ]
    }
   ],
   "source": [
    "import openreview\n",
    "import numpy as np\n",
    "import matplotlib.pyplot as plt\n",
    "from matplotlib.ticker import FormatStrFormatter\n",
    "from datetime import datetime\n",
    "import os\n",
    "\n",
    "# https://openreview-py.readthedocs.io/en/latest/ \n",
    "# https://readthedocs.org/projects/openreview-py-dm-branch/downloads/pdf/latest/\n",
    "# https://docs.openreview.net/getting-started/using-the-api/installing-and-instantiating-the-python-client\n",
    "\n",
    "\n",
    "\n",
    "papers = {}\n",
    "# Find invitation ID by running\n",
    "# client = openreview.Client(baseurl='https://api.openreview.net')\n",
    "# print(client.get_group(id='venues').members) # NeurIPS.cc/2022/Track/Datasets_and_Benchmarks/-/Submission\n",
    "# submissions = client.get_all_notes(invitation=\"ICLR.cc/2024/Conference/-/Blind_Submission\", details='directReplies')\n",
    "client = openreview.Client(baseurl='https://api2.openreview.net')\n",
    "submissions = client.get_all_notes(invitation=\"ICLR.cc/2024/Conference/-/Submission\", details='directReplies')\n",
    "# import pdb; pdb.set_trace()\n",
    "listofreviewers = set()"
   ]
  },
  {
   "cell_type": "code",
   "execution_count": 24,
   "id": "fd83558c-9acd-4f1b-b855-7f084d0313b2",
   "metadata": {},
   "outputs": [
    {
     "name": "stderr",
     "output_type": "stream",
     "text": [
      "/home/cathy/miniconda3/envs/openreview_summarizereviews/lib/python3.10/site-packages/numpy/core/fromnumeric.py:3432: RuntimeWarning: Mean of empty slice.\n",
      "  return _methods._mean(a, axis=axis, dtype=dtype,\n",
      "/home/cathy/miniconda3/envs/openreview_summarizereviews/lib/python3.10/site-packages/numpy/core/_methods.py:190: RuntimeWarning: invalid value encountered in double_scalars\n",
      "  ret = ret.dtype.type(ret / rcount)\n",
      "/home/cathy/miniconda3/envs/openreview_summarizereviews/lib/python3.10/site-packages/numpy/core/_methods.py:265: RuntimeWarning: Degrees of freedom <= 0 for slice\n",
      "  ret = _var(a, axis=axis, dtype=dtype, out=out, ddof=ddof,\n",
      "/home/cathy/miniconda3/envs/openreview_summarizereviews/lib/python3.10/site-packages/numpy/core/_methods.py:223: RuntimeWarning: invalid value encountered in divide\n",
      "  arrmean = um.true_divide(arrmean, div, out=arrmean, casting='unsafe',\n",
      "/home/cathy/miniconda3/envs/openreview_summarizereviews/lib/python3.10/site-packages/numpy/core/_methods.py:257: RuntimeWarning: invalid value encountered in double_scalars\n",
      "  ret = ret.dtype.type(ret / rcount)\n"
     ]
    },
    {
     "name": "stdout",
     "output_type": "stream",
     "text": [
      "Mean, Mean Paper Rating: nan\n",
      "Median, Mean Paper Rating: nan\n",
      "Standard Deviation of Mean Paper Rating: nan\n",
      "Total Nonwithdrawn Papers: 7304\n"
     ]
    }
   ],
   "source": [
    "for submission in submissions:\n",
    "    reviews = []\n",
    "    for review in submission.details['directReplies']:\n",
    "        if 'rating' in review['content'].keys():\n",
    "            rating = int(review['content']['rating']['value'].split(':')[0])\n",
    "            confidence = int(review['content']['confidence']['value'].split(':')[0])\n",
    "            aTup = rating,confidence\n",
    "            reviews.append(aTup)\n",
    "    papers[submission.content['title'][\"value\"]] = reviews"
   ]
  },
  {
   "cell_type": "code",
   "execution_count": 41,
   "id": "757e77a2-e3f0-42c2-8299-65dd879d9cc6",
   "metadata": {},
   "outputs": [
    {
     "name": "stderr",
     "output_type": "stream",
     "text": [
      "/tmp/ipykernel_184792/2954879405.py:11: RuntimeWarning: Mean of empty slice\n",
      "  mean = np.nanmean(ratingsList)\n"
     ]
    },
    {
     "name": "stdout",
     "output_type": "stream",
     "text": [
      "Bi-GCL: Efficient Search on Networks\n",
      "Language-Independent Embeddings for Entity Recognition via LLM Data-Level Knowledge Distillation\n",
      "Do LLMs understand Pragmatics? An Extensive Benchmark for Evaluating Pragmatic Understanding of LLMs\n",
      "Data Refinement: Mitigating Reward Over-Optimization in Reinforcement Learning with Human Feedback\n",
      "Lung Nodule Segmentation Network with Self-Supervised Learning and Attention Mechanisms\n",
      "Ghostbuster: Detecting Text Ghostwritten by Large Language Models\n",
      "Mitigating Accumulated Distribution Divergence in Batch Normalization for Unsupervised Domain Adaptation\n",
      "Enhanced Adversarial Domain Generation via Optimized Batch Normalization and Classifier\n",
      "Identifying Spurious Biases Early in Training through the Lens of Simplicity Bias\n",
      "Probing Innocuous Overfitting within Robust Linear Analytical Classifications\n",
      "ADJUSTING THE INDUCTIVE BIAS OF DIFFUSION MODELS\n",
      "Deep Generalized Green's Function\n",
      "Beyond Graphs: Learning with Relational DBs\n",
      "PINA: a PyTorch Framework for Deep Differential Equation Learning for Research and Production Environments\n",
      "Maintaining Plasticity in Continual Learning via Regenerative Regularization\n",
      "Spiking Mixers for Robust and Energy-efficient Vision-and-Language Learning\n",
      "Improved Algorithms for Adversarial Multi-armed Bandit with Unbounded Losses\n",
      "MAMS: MODEL-AGNOSTIC MODULE SELECTION FRAMEWORK FOR VIDEO CAPTIONING\n",
      "Deep ResNIDS: A Multistage AI Framework for Novelty Detection in Network Traffic\n",
      "Distributed Training of Large Graph Neural Networks with Variable Communication Rates\n",
      "Can Synthetic Data Reduce Conservatism of Distributionally Robust Adversarial Training?\n",
      "How Two-Layer Networks Learn, One (Giant) Step at a Time\n",
      "Locally Optimal Descent for Adaptive Stepsize Scheduling\n",
      "A Database-based Rather Than a Language Model-based Natural Language Processing Method\n",
      "A Backdoor-based Explainable AI Benchmark for Improved Fidelity in Evaluating Attribution Methods\n",
      "Regulating Model Reliance on Non-Robust Features by Smoothing Marginal Density of Input\n",
      "BCN: Batch Channel Normalization\n",
      "MetaCloak: Preventing Unauthorized Subject-driven Text-to-image Synthesis Via Meta-learning\n",
      "Text-to-3D using Gaussian Splatting\n",
      "ALIN: An Active Learning Framework for Incomplete Networks\n",
      "Overcoming Weak Visual-Textual Alignment for Video Moment Retrieval\n",
      "Analyzing Implicit Regularization In Federated Learning\n",
      "Low rank field-weighted factorization machines for low latency item recommendation\n",
      "On the Convergence of AdaGrad-Norm for Non-Convex Optimization\n",
      "Attention-Only Transformers and Implementing MLPs with Attention Heads\n",
      "Safurai 001: New Qualitative Approach for Evaluation\n",
      "MARINA Meets Matrix Stepsizes: Variance Reduced Distributed Non-Convex Optimization\n",
      "Exponential Quantum Advantage in Communication for Distributed Learning\n",
      "SMOOT: Saliency Guided Mask Optimized Online Training\n",
      "Speeding Up Speech Synthesis In Diffusion Models By Reducing Data Distribution Recovery Steps Via Content Transfer\n",
      "EC-Conf: An Ultra-fast Diffusion Model for Molecular Conformation Generation with Equivariant Consistency\n",
      "RDBench: ML Benchmark for Relational Databases\n",
      "Mean, Mean Paper Rating: 4.8663855228128154\n",
      "Median, Mean Paper Rating: 4.800000000000001\n",
      "Standard Deviation of Mean Paper Rating: 1.0770080792312975\n",
      "Total Papers: 7304\n",
      "Total Withdrawn Papers: 42\n"
     ]
    }
   ],
   "source": [
    "# Stats Calculation\n",
    "allRatings = []\n",
    "allRatingsMeans = []\n",
    "for paper in papers:\n",
    "    ratingsList = []\n",
    "    for pair in papers[paper]:\n",
    "        # print(pair[0])\n",
    "        ratingsList.append(pair[0])\n",
    "\n",
    "    #paper specific statistics\n",
    "    mean = np.nanmean(ratingsList)\n",
    "    median = np.nanmedian(ratingsList)\n",
    "    stdev = np.nanstd(ratingsList)\n",
    "    if np.isnan(mean):\n",
    "        print(paper)\n",
    "\n",
    "    statsTup = mean, median, stdev\n",
    "    papers[paper].insert(0, statsTup)\n",
    "    allRatingsMeans.append(mean)\n",
    "\n",
    "overallMean = np.nanmean(allRatingsMeans)\n",
    "overallMedian = np.nanmedian(allRatingsMeans)\n",
    "overallStdev = np.nanstd(allRatingsMeans)\n",
    "print(f\"Mean, Mean Paper Rating: {overallMean}\")\n",
    "print(f\"Median, Mean Paper Rating: {overallMedian}\")\n",
    "print(f\"Standard Deviation of Mean Paper Rating: {overallStdev}\")\n",
    "print(f\"Total Papers: {len(allRatingsMeans)}\")\n",
    "print(f\"Total Withdrawn Papers: {np.sum(np.isnan(allRatingsMeans))}\")\n"
   ]
  },
  {
   "cell_type": "code",
   "execution_count": 40,
   "id": "b2300788-5ced-4711-b6d7-a67fcd6aeba1",
   "metadata": {},
   "outputs": [
    {
     "name": "stderr",
     "output_type": "stream",
     "text": [
      "/tmp/ipykernel_184792/1364473502.py:1: RuntimeWarning: Mean of empty slice\n",
      "  np.nanmean([np.nan])\n"
     ]
    },
    {
     "data": {
      "text/plain": [
       "nan"
      ]
     },
     "execution_count": 40,
     "metadata": {},
     "output_type": "execute_result"
    }
   ],
   "source": [
    "np.nanmean([np.nan])"
   ]
  },
  {
   "cell_type": "code",
   "execution_count": 12,
   "id": "90fb66d9-fcb2-4483-8210-a0662a76d400",
   "metadata": {},
   "outputs": [
    {
     "data": {
      "text/plain": [
       "{'summary': {'value': 'The study focuses on understanding the interactions between microorganisms, which is of significant importance in both medical and environmental contexts. The authors introduce a novel approach by modeling bacterial communities using graph neural networks (GNNs) directly from the genomes of the bacteria. The inherent properties of GNNs, such as permutation invariance, allow them to effectively capture the relationships within the bacterial set, thus offering combinatorial generalization.'},\n",
       " 'soundness': {'value': '3 good'},\n",
       " 'presentation': {'value': '4 excellent'},\n",
       " 'contribution': {'value': '3 good'},\n",
       " 'strengths': {'value': '- Novel problem setup and the first use of GNN to tackle this problem. \\n- The use of GNN matches with the data well since it is modeling a dynamic system. \\n- Very interesting set of experiments and they are extensive. \\n- The presentation is nice and clear.\\n- Nice simulation data construction and results.'},\n",
       " 'weaknesses': {'value': '- Methodological novelty is limited since it is basically fitting a GNN on a bacterial community graph. This is not to say the novelty of the paper is limited. Since I do believe it is tackling an interesting new problem with impact. I would suggest the authors consider a journal paper instead.'},\n",
       " 'questions': {'value': 'Where are the circles for fig3A (models not on permuted data)? Why only select some of the combinations and not showing all of them? It would also be great if the authors could compare with standard practice of this task instead of just comparing with GraphSAGE. For example, by fitting the mechanistic model.\\n\\nHave the authors experimented with other GNN models? Since graphsage is only one instantiation and there are many recent ones with more expressive powers. \\n\\nModeling the dynamics sounds interesting. Could the authors also use GNN in an iterative way to model the dynamics? For example, using ideas from this paper: http://proceedings.mlr.press/v119/sanchez-gonzalez20a.html'},\n",
       " 'flag_for_ethics_review': {'value': ['No ethics review needed.']},\n",
       " 'rating': {'value': '6: marginally above the acceptance threshold'},\n",
       " 'confidence': {'value': '3: You are fairly confident in your assessment. It is possible that you did not understand some parts of the submission or that you are unfamiliar with some pieces of related work. Math/other details were not carefully checked.'},\n",
       " 'code_of_conduct': {'value': 'Yes'}}"
      ]
     },
     "execution_count": 12,
     "metadata": {},
     "output_type": "execute_result"
    }
   ],
   "source": [
    "review[\"content\"]"
   ]
  },
  {
   "cell_type": "code",
   "execution_count": 3,
   "id": "36244d6d-efa8-42ba-963b-aaa6a97c984f",
   "metadata": {},
   "outputs": [
    {
     "ename": "TypeError",
     "evalue": "list indices must be integers or slices, not str",
     "output_type": "error",
     "traceback": [
      "\u001b[0;31m---------------------------------------------------------------------------\u001b[0m",
      "\u001b[0;31mTypeError\u001b[0m                                 Traceback (most recent call last)",
      "Cell \u001b[0;32mIn[3], line 1\u001b[0m\n\u001b[0;32m----> 1\u001b[0m \u001b[38;5;28;01mif\u001b[39;00m \u001b[43mreview\u001b[49m\u001b[43m[\u001b[49m\u001b[38;5;124;43m\"\u001b[39;49m\u001b[38;5;124;43msignatures\u001b[39;49m\u001b[38;5;124;43m\"\u001b[39;49m\u001b[43m]\u001b[49m[\u001b[38;5;241m0\u001b[39m][\u001b[38;5;241m-\u001b[39m\u001b[38;5;241m4\u001b[39m:] \u001b[38;5;129;01mnot\u001b[39;00m \u001b[38;5;129;01min\u001b[39;00m listofreviewers:\n\u001b[1;32m      2\u001b[0m     listofreviewers\u001b[38;5;241m.\u001b[39madd(review[\u001b[38;5;124m\"\u001b[39m\u001b[38;5;124msignatures\u001b[39m\u001b[38;5;124m\"\u001b[39m][\u001b[38;5;241m0\u001b[39m][\u001b[38;5;241m-\u001b[39m\u001b[38;5;241m4\u001b[39m:])\n\u001b[1;32m      3\u001b[0m \u001b[38;5;28;01melse\u001b[39;00m:\n",
      "\u001b[0;31mTypeError\u001b[0m: list indices must be integers or slices, not str"
     ]
    }
   ],
   "source": [
    "if review[\"signatures\"][0][-4:] not in listofreviewers:\n",
    "    listofreviewers.add(review[\"signatures\"][0][-4:])\n",
    "else:\n",
    "    print(review[\"signatures\"][0][-4:])\n",
    "    import pdb; pdb.set_trace()\n",
    "rating = int(review['content']['rating'].split(':')[0])\n",
    "confidence = int(review['content']['confidence'].split(':')[0])\n",
    "aTup = rating,confidence\n",
    "reviews.append(aTup)"
   ]
  }
 ],
 "metadata": {
  "kernelspec": {
   "display_name": "Python 3 (ipykernel)",
   "language": "python",
   "name": "python3"
  },
  "language_info": {
   "codemirror_mode": {
    "name": "ipython",
    "version": 3
   },
   "file_extension": ".py",
   "mimetype": "text/x-python",
   "name": "python",
   "nbconvert_exporter": "python",
   "pygments_lexer": "ipython3",
   "version": "3.10.4"
  }
 },
 "nbformat": 4,
 "nbformat_minor": 5
}
