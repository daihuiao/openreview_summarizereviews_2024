{
 "cells": [
  {
   "cell_type": "code",
   "execution_count": 1,
   "id": "71166260-b8ee-44e5-bf04-2d0e2da059b4",
   "metadata": {},
   "outputs": [
    {
     "name": "stderr",
     "output_type": "stream",
     "text": [
      "Gathering Responses: 100%|████████████████████████| 7/7 [00:04<00:00,  1.46it/s]\n"
     ]
    }
   ],
   "source": [
    "import openreview\n",
    "import numpy as np\n",
    "import matplotlib.pyplot as plt\n",
    "from matplotlib.ticker import FormatStrFormatter\n",
    "from datetime import datetime\n",
    "import os\n",
    "\n",
    "# https://openreview-py.readthedocs.io/en/latest/ \n",
    "# https://readthedocs.org/projects/openreview-py-dm-branch/downloads/pdf/latest/\n",
    "# https://docs.openreview.net/getting-started/using-the-api/installing-and-instantiating-the-python-client\n",
    "\n",
    "\n",
    "\n",
    "papers = {}\n",
    "# Find invitation ID by running\n",
    "# client = openreview.Client(baseurl='https://api.openreview.net')\n",
    "# print(client.get_group(id='venues').members) # NeurIPS.cc/2022/Track/Datasets_and_Benchmarks/-/Submission\n",
    "# submissions = client.get_all_notes(invitation=\"ICLR.cc/2024/Conference/-/Blind_Submission\", details='directReplies')\n",
    "client = openreview.Client(baseurl='https://api2.openreview.net')\n",
    "submissions = client.get_all_notes(invitation=\"ICLR.cc/2024/Conference/-/Submission\", details='directReplies')\n",
    "# import pdb; pdb.set_trace()\n",
    "listofreviewers = set()"
   ]
  },
  {
   "cell_type": "code",
   "execution_count": null,
   "id": "757e77a2-e3f0-42c2-8299-65dd879d9cc6",
   "metadata": {},
   "outputs": [],
   "source": []
  }
 ],
 "metadata": {
  "kernelspec": {
   "display_name": "Python 3 (ipykernel)",
   "language": "python",
   "name": "python3"
  },
  "language_info": {
   "codemirror_mode": {
    "name": "ipython",
    "version": 3
   },
   "file_extension": ".py",
   "mimetype": "text/x-python",
   "name": "python",
   "nbconvert_exporter": "python",
   "pygments_lexer": "ipython3",
   "version": "3.10.4"
  }
 },
 "nbformat": 4,
 "nbformat_minor": 5
}
